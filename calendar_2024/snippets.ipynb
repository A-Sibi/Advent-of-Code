{
 "cells": [
  {
   "cell_type": "markdown",
   "metadata": {},
   "source": [
    "### Testing of Python behaviour during the solving of Advent of Code 2024"
   ]
  },
  {
   "cell_type": "code",
<<<<<<< HEAD
   "execution_count": 3,
   "metadata": {},
   "outputs": [
    {
     "data": {
      "text/plain": [
       "array([['M', 'X', 'M', 'A', 'S'],\n",
       "       ['X', 'D', 'X', 'M', 'A'],\n",
       "       ['M', 'Q', 'Q', 'Q', 'Q'],\n",
       "       ['A', 'Q', 'Q', 'Q', 'Q'],\n",
       "       ['S', 'Q', 'Q', 'Q', 'Q']], dtype='<U1')"
      ]
     },
     "execution_count": 3,
     "metadata": {},
     "output_type": "execute_result"
    }
   ],
   "source": [
    "import numpy as np\n",
    "\n",
    "with open('data/day4.txt') as file:\n",
    "    M = np.array([[ch for ch in line.strip()] for line in file])\n",
    "M"
   ]
  },
  {
   "cell_type": "code",
   "execution_count": 41,
   "metadata": {},
   "outputs": [
    {
     "name": "stdout",
     "output_type": "stream",
     "text": [
      "['S']\n"
     ]
    },
    {
     "data": {
      "text/plain": [
       "False"
      ]
     },
     "execution_count": 41,
     "metadata": {},
     "output_type": "execute_result"
    }
   ],
   "source": [
    "l = M[4:8,0].tolist()\n",
    "s =  ['X','M','A','S']\n",
    "print(l)\n",
    "s == l"
   ]
  },
  {
   "cell_type": "code",
   "execution_count": null,
=======
   "execution_count": 11,
>>>>>>> e577fba76428136bbef781cd6a3c1827286a4aea
   "metadata": {},
   "outputs": [
    {
     "data": {
      "text/plain": [
<<<<<<< HEAD
       "array(['M', 'D', 'Q', 'Q', 'Q'], dtype='<U1')"
      ]
     },
     "execution_count": 47,
=======
       "['mul(23']"
      ]
     },
     "execution_count": 11,
>>>>>>> e577fba76428136bbef781cd6a3c1827286a4aea
     "metadata": {},
     "output_type": "execute_result"
    }
   ],
<<<<<<< HEAD
   "source": []
=======
   "source": [
    "import re\n",
    "t = \"# mul(23\"\n",
    "re.findall(\"mul\\(\\d{1,3}\", t)"
   ]
  },
  {
   "cell_type": "code",
   "execution_count": 4,
   "metadata": {},
   "outputs": [
    {
     "data": {
      "text/plain": [
       "13"
      ]
     },
     "execution_count": 4,
     "metadata": {},
     "output_type": "execute_result"
    }
   ],
   "source": [
    "line = \"13|45\"\n",
    "l, r = map(int, line.split(\"|\"))\n",
    "l"
   ]
>>>>>>> e577fba76428136bbef781cd6a3c1827286a4aea
  }
 ],
 "metadata": {
  "kernelspec": {
   "display_name": "Python 3",
   "language": "python",
   "name": "python3"
  },
  "language_info": {
   "codemirror_mode": {
    "name": "ipython",
    "version": 3
   },
   "file_extension": ".py",
   "mimetype": "text/x-python",
   "name": "python",
   "nbconvert_exporter": "python",
   "pygments_lexer": "ipython3",
   "version": "3.11.9"
  }
 },
 "nbformat": 4,
 "nbformat_minor": 2
}
